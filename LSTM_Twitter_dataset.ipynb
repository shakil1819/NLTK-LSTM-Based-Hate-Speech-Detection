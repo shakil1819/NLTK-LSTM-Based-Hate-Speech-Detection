{
  "cells": [
    {
      "cell_type": "markdown",
      "metadata": {
        "id": "view-in-github",
        "colab_type": "text"
      },
      "source": [
        "<a href=\"https://colab.research.google.com/github/shakil1819/NLTK-LSTM-Based-Hate-Speech-Detection/blob/main/LSTM_Twitter_dataset.ipynb\" target=\"_parent\"><img src=\"https://colab.research.google.com/assets/colab-badge.svg\" alt=\"Open In Colab\"/></a>"
      ]
    },
    {
      "cell_type": "markdown",
      "id": "3bae601b",
      "metadata": {
        "papermill": {
          "duration": 0.008477,
          "end_time": "2022-07-01T00:26:27.217820",
          "exception": false,
          "start_time": "2022-07-01T00:26:27.209343",
          "status": "completed"
        },
        "tags": [],
        "id": "3bae601b"
      },
      "source": [
        "# Imorting Libraries"
      ]
    },
    {
      "cell_type": "code",
      "execution_count": 1,
      "id": "984c7070",
      "metadata": {
        "execution": {
          "iopub.execute_input": "2022-07-01T00:26:27.236077Z",
          "iopub.status.busy": "2022-07-01T00:26:27.235427Z",
          "iopub.status.idle": "2022-07-01T00:26:33.768998Z",
          "shell.execute_reply": "2022-07-01T00:26:33.768170Z"
        },
        "papermill": {
          "duration": 6.544879,
          "end_time": "2022-07-01T00:26:33.771061",
          "exception": false,
          "start_time": "2022-07-01T00:26:27.226182",
          "status": "completed"
        },
        "tags": [],
        "id": "984c7070"
      },
      "outputs": [],
      "source": [
        "import os\n",
        "import numpy as np\n",
        "import pandas as pd\n",
        "from sklearn.preprocessing import LabelEncoder\n",
        "import nltk\n",
        "import re\n",
        "from nltk.stem import PorterStemmer\n",
        "from nltk.corpus import stopwords\n",
        "from sklearn.model_selection import train_test_split\n",
        "from sklearn.feature_extraction.text import CountVectorizer\n",
        "from sklearn.naive_bayes import MultinomialNB\n",
        "from sklearn.metrics import accuracy_score\n",
        "from sklearn.metrics import confusion_matrix\n",
        "import matplotlib.pyplot as plt\n",
        "import seaborn as sns\n",
        "from nltk.stem import WordNetLemmatizer\n",
        "import itertools\n",
        "from wordcloud import WordCloud\n",
        "from sklearn.ensemble import RandomForestClassifier\n",
        "from sklearn import tree\n",
        "from sklearn.ensemble import AdaBoostClassifier\n",
        "from sklearn.neighbors import KNeighborsClassifier\n",
        "from sklearn.svm import SVC\n",
        "from keras.models import Sequential,Model\n",
        "from keras.layers import Dense,LSTM, SpatialDropout1D, Embedding\n",
        "from tensorflow.keras import utils\n",
        "from tensorflow.keras.utils import to_categorical\n",
        "from joblib import dump, load"
      ]
    },
    {
      "cell_type": "markdown",
      "id": "e18f917f",
      "metadata": {
        "papermill": {
          "duration": 0.006906,
          "end_time": "2022-07-01T00:26:33.785326",
          "exception": false,
          "start_time": "2022-07-01T00:26:33.778420",
          "status": "completed"
        },
        "tags": [],
        "id": "e18f917f"
      },
      "source": [
        "# Reading the dataset"
      ]
    },
    {
      "cell_type": "code",
      "execution_count": 2,
      "id": "fbd4a653",
      "metadata": {
        "execution": {
          "iopub.execute_input": "2022-07-01T00:26:33.801293Z",
          "iopub.status.busy": "2022-07-01T00:26:33.800700Z",
          "iopub.status.idle": "2022-07-01T00:26:33.871976Z",
          "shell.execute_reply": "2022-07-01T00:26:33.871221Z"
        },
        "papermill": {
          "duration": 0.081746,
          "end_time": "2022-07-01T00:26:33.874035",
          "exception": false,
          "start_time": "2022-07-01T00:26:33.792289",
          "status": "completed"
        },
        "tags": [],
        "colab": {
          "base_uri": "https://localhost:8080/",
          "height": 206
        },
        "id": "fbd4a653",
        "outputId": "e6b98373-9eea-4301-cb07-d541308632f4"
      },
      "outputs": [
        {
          "output_type": "execute_result",
          "data": {
            "text/plain": [
              "   Unnamed: 0  count  hate_speech  offensive_language  neither  class  \\\n",
              "0           0      3            0                   0        3      2   \n",
              "1           1      3            0                   3        0      1   \n",
              "2           2      3            0                   3        0      1   \n",
              "3           3      3            0                   2        1      1   \n",
              "4           4      6            0                   6        0      1   \n",
              "\n",
              "                                               tweet  \n",
              "0  !!! RT @mayasolovely: As a woman you shouldn't...  \n",
              "1  !!!!! RT @mleew17: boy dats cold...tyga dwn ba...  \n",
              "2  !!!!!!! RT @UrKindOfBrand Dawg!!!! RT @80sbaby...  \n",
              "3  !!!!!!!!! RT @C_G_Anderson: @viva_based she lo...  \n",
              "4  !!!!!!!!!!!!! RT @ShenikaRoberts: The shit you...  "
            ],
            "text/html": [
              "\n",
              "  <div id=\"df-6be5f74c-292e-4cdf-b9ee-61672746fd35\" class=\"colab-df-container\">\n",
              "    <div>\n",
              "<style scoped>\n",
              "    .dataframe tbody tr th:only-of-type {\n",
              "        vertical-align: middle;\n",
              "    }\n",
              "\n",
              "    .dataframe tbody tr th {\n",
              "        vertical-align: top;\n",
              "    }\n",
              "\n",
              "    .dataframe thead th {\n",
              "        text-align: right;\n",
              "    }\n",
              "</style>\n",
              "<table border=\"1\" class=\"dataframe\">\n",
              "  <thead>\n",
              "    <tr style=\"text-align: right;\">\n",
              "      <th></th>\n",
              "      <th>Unnamed: 0</th>\n",
              "      <th>count</th>\n",
              "      <th>hate_speech</th>\n",
              "      <th>offensive_language</th>\n",
              "      <th>neither</th>\n",
              "      <th>class</th>\n",
              "      <th>tweet</th>\n",
              "    </tr>\n",
              "  </thead>\n",
              "  <tbody>\n",
              "    <tr>\n",
              "      <th>0</th>\n",
              "      <td>0</td>\n",
              "      <td>3</td>\n",
              "      <td>0</td>\n",
              "      <td>0</td>\n",
              "      <td>3</td>\n",
              "      <td>2</td>\n",
              "      <td>!!! RT @mayasolovely: As a woman you shouldn't...</td>\n",
              "    </tr>\n",
              "    <tr>\n",
              "      <th>1</th>\n",
              "      <td>1</td>\n",
              "      <td>3</td>\n",
              "      <td>0</td>\n",
              "      <td>3</td>\n",
              "      <td>0</td>\n",
              "      <td>1</td>\n",
              "      <td>!!!!! RT @mleew17: boy dats cold...tyga dwn ba...</td>\n",
              "    </tr>\n",
              "    <tr>\n",
              "      <th>2</th>\n",
              "      <td>2</td>\n",
              "      <td>3</td>\n",
              "      <td>0</td>\n",
              "      <td>3</td>\n",
              "      <td>0</td>\n",
              "      <td>1</td>\n",
              "      <td>!!!!!!! RT @UrKindOfBrand Dawg!!!! RT @80sbaby...</td>\n",
              "    </tr>\n",
              "    <tr>\n",
              "      <th>3</th>\n",
              "      <td>3</td>\n",
              "      <td>3</td>\n",
              "      <td>0</td>\n",
              "      <td>2</td>\n",
              "      <td>1</td>\n",
              "      <td>1</td>\n",
              "      <td>!!!!!!!!! RT @C_G_Anderson: @viva_based she lo...</td>\n",
              "    </tr>\n",
              "    <tr>\n",
              "      <th>4</th>\n",
              "      <td>4</td>\n",
              "      <td>6</td>\n",
              "      <td>0</td>\n",
              "      <td>6</td>\n",
              "      <td>0</td>\n",
              "      <td>1</td>\n",
              "      <td>!!!!!!!!!!!!! RT @ShenikaRoberts: The shit you...</td>\n",
              "    </tr>\n",
              "  </tbody>\n",
              "</table>\n",
              "</div>\n",
              "    <div class=\"colab-df-buttons\">\n",
              "\n",
              "  <div class=\"colab-df-container\">\n",
              "    <button class=\"colab-df-convert\" onclick=\"convertToInteractive('df-6be5f74c-292e-4cdf-b9ee-61672746fd35')\"\n",
              "            title=\"Convert this dataframe to an interactive table.\"\n",
              "            style=\"display:none;\">\n",
              "\n",
              "  <svg xmlns=\"http://www.w3.org/2000/svg\" height=\"24px\" viewBox=\"0 -960 960 960\">\n",
              "    <path d=\"M120-120v-720h720v720H120Zm60-500h600v-160H180v160Zm220 220h160v-160H400v160Zm0 220h160v-160H400v160ZM180-400h160v-160H180v160Zm440 0h160v-160H620v160ZM180-180h160v-160H180v160Zm440 0h160v-160H620v160Z\"/>\n",
              "  </svg>\n",
              "    </button>\n",
              "\n",
              "  <style>\n",
              "    .colab-df-container {\n",
              "      display:flex;\n",
              "      gap: 12px;\n",
              "    }\n",
              "\n",
              "    .colab-df-convert {\n",
              "      background-color: #E8F0FE;\n",
              "      border: none;\n",
              "      border-radius: 50%;\n",
              "      cursor: pointer;\n",
              "      display: none;\n",
              "      fill: #1967D2;\n",
              "      height: 32px;\n",
              "      padding: 0 0 0 0;\n",
              "      width: 32px;\n",
              "    }\n",
              "\n",
              "    .colab-df-convert:hover {\n",
              "      background-color: #E2EBFA;\n",
              "      box-shadow: 0px 1px 2px rgba(60, 64, 67, 0.3), 0px 1px 3px 1px rgba(60, 64, 67, 0.15);\n",
              "      fill: #174EA6;\n",
              "    }\n",
              "\n",
              "    .colab-df-buttons div {\n",
              "      margin-bottom: 4px;\n",
              "    }\n",
              "\n",
              "    [theme=dark] .colab-df-convert {\n",
              "      background-color: #3B4455;\n",
              "      fill: #D2E3FC;\n",
              "    }\n",
              "\n",
              "    [theme=dark] .colab-df-convert:hover {\n",
              "      background-color: #434B5C;\n",
              "      box-shadow: 0px 1px 3px 1px rgba(0, 0, 0, 0.15);\n",
              "      filter: drop-shadow(0px 1px 2px rgba(0, 0, 0, 0.3));\n",
              "      fill: #FFFFFF;\n",
              "    }\n",
              "  </style>\n",
              "\n",
              "    <script>\n",
              "      const buttonEl =\n",
              "        document.querySelector('#df-6be5f74c-292e-4cdf-b9ee-61672746fd35 button.colab-df-convert');\n",
              "      buttonEl.style.display =\n",
              "        google.colab.kernel.accessAllowed ? 'block' : 'none';\n",
              "\n",
              "      async function convertToInteractive(key) {\n",
              "        const element = document.querySelector('#df-6be5f74c-292e-4cdf-b9ee-61672746fd35');\n",
              "        const dataTable =\n",
              "          await google.colab.kernel.invokeFunction('convertToInteractive',\n",
              "                                                    [key], {});\n",
              "        if (!dataTable) return;\n",
              "\n",
              "        const docLinkHtml = 'Like what you see? Visit the ' +\n",
              "          '<a target=\"_blank\" href=https://colab.research.google.com/notebooks/data_table.ipynb>data table notebook</a>'\n",
              "          + ' to learn more about interactive tables.';\n",
              "        element.innerHTML = '';\n",
              "        dataTable['output_type'] = 'display_data';\n",
              "        await google.colab.output.renderOutput(dataTable, element);\n",
              "        const docLink = document.createElement('div');\n",
              "        docLink.innerHTML = docLinkHtml;\n",
              "        element.appendChild(docLink);\n",
              "      }\n",
              "    </script>\n",
              "  </div>\n",
              "\n",
              "\n",
              "<div id=\"df-f66f3c32-a1b8-44de-bb6e-e29fba95e491\">\n",
              "  <button class=\"colab-df-quickchart\" onclick=\"quickchart('df-f66f3c32-a1b8-44de-bb6e-e29fba95e491')\"\n",
              "            title=\"Suggest charts\"\n",
              "            style=\"display:none;\">\n",
              "\n",
              "<svg xmlns=\"http://www.w3.org/2000/svg\" height=\"24px\"viewBox=\"0 0 24 24\"\n",
              "     width=\"24px\">\n",
              "    <g>\n",
              "        <path d=\"M19 3H5c-1.1 0-2 .9-2 2v14c0 1.1.9 2 2 2h14c1.1 0 2-.9 2-2V5c0-1.1-.9-2-2-2zM9 17H7v-7h2v7zm4 0h-2V7h2v10zm4 0h-2v-4h2v4z\"/>\n",
              "    </g>\n",
              "</svg>\n",
              "  </button>\n",
              "\n",
              "<style>\n",
              "  .colab-df-quickchart {\n",
              "      --bg-color: #E8F0FE;\n",
              "      --fill-color: #1967D2;\n",
              "      --hover-bg-color: #E2EBFA;\n",
              "      --hover-fill-color: #174EA6;\n",
              "      --disabled-fill-color: #AAA;\n",
              "      --disabled-bg-color: #DDD;\n",
              "  }\n",
              "\n",
              "  [theme=dark] .colab-df-quickchart {\n",
              "      --bg-color: #3B4455;\n",
              "      --fill-color: #D2E3FC;\n",
              "      --hover-bg-color: #434B5C;\n",
              "      --hover-fill-color: #FFFFFF;\n",
              "      --disabled-bg-color: #3B4455;\n",
              "      --disabled-fill-color: #666;\n",
              "  }\n",
              "\n",
              "  .colab-df-quickchart {\n",
              "    background-color: var(--bg-color);\n",
              "    border: none;\n",
              "    border-radius: 50%;\n",
              "    cursor: pointer;\n",
              "    display: none;\n",
              "    fill: var(--fill-color);\n",
              "    height: 32px;\n",
              "    padding: 0;\n",
              "    width: 32px;\n",
              "  }\n",
              "\n",
              "  .colab-df-quickchart:hover {\n",
              "    background-color: var(--hover-bg-color);\n",
              "    box-shadow: 0 1px 2px rgba(60, 64, 67, 0.3), 0 1px 3px 1px rgba(60, 64, 67, 0.15);\n",
              "    fill: var(--button-hover-fill-color);\n",
              "  }\n",
              "\n",
              "  .colab-df-quickchart-complete:disabled,\n",
              "  .colab-df-quickchart-complete:disabled:hover {\n",
              "    background-color: var(--disabled-bg-color);\n",
              "    fill: var(--disabled-fill-color);\n",
              "    box-shadow: none;\n",
              "  }\n",
              "\n",
              "  .colab-df-spinner {\n",
              "    border: 2px solid var(--fill-color);\n",
              "    border-color: transparent;\n",
              "    border-bottom-color: var(--fill-color);\n",
              "    animation:\n",
              "      spin 1s steps(1) infinite;\n",
              "  }\n",
              "\n",
              "  @keyframes spin {\n",
              "    0% {\n",
              "      border-color: transparent;\n",
              "      border-bottom-color: var(--fill-color);\n",
              "      border-left-color: var(--fill-color);\n",
              "    }\n",
              "    20% {\n",
              "      border-color: transparent;\n",
              "      border-left-color: var(--fill-color);\n",
              "      border-top-color: var(--fill-color);\n",
              "    }\n",
              "    30% {\n",
              "      border-color: transparent;\n",
              "      border-left-color: var(--fill-color);\n",
              "      border-top-color: var(--fill-color);\n",
              "      border-right-color: var(--fill-color);\n",
              "    }\n",
              "    40% {\n",
              "      border-color: transparent;\n",
              "      border-right-color: var(--fill-color);\n",
              "      border-top-color: var(--fill-color);\n",
              "    }\n",
              "    60% {\n",
              "      border-color: transparent;\n",
              "      border-right-color: var(--fill-color);\n",
              "    }\n",
              "    80% {\n",
              "      border-color: transparent;\n",
              "      border-right-color: var(--fill-color);\n",
              "      border-bottom-color: var(--fill-color);\n",
              "    }\n",
              "    90% {\n",
              "      border-color: transparent;\n",
              "      border-bottom-color: var(--fill-color);\n",
              "    }\n",
              "  }\n",
              "</style>\n",
              "\n",
              "  <script>\n",
              "    async function quickchart(key) {\n",
              "      const quickchartButtonEl =\n",
              "        document.querySelector('#' + key + ' button');\n",
              "      quickchartButtonEl.disabled = true;  // To prevent multiple clicks.\n",
              "      quickchartButtonEl.classList.add('colab-df-spinner');\n",
              "      try {\n",
              "        const charts = await google.colab.kernel.invokeFunction(\n",
              "            'suggestCharts', [key], {});\n",
              "      } catch (error) {\n",
              "        console.error('Error during call to suggestCharts:', error);\n",
              "      }\n",
              "      quickchartButtonEl.classList.remove('colab-df-spinner');\n",
              "      quickchartButtonEl.classList.add('colab-df-quickchart-complete');\n",
              "    }\n",
              "    (() => {\n",
              "      let quickchartButtonEl =\n",
              "        document.querySelector('#df-f66f3c32-a1b8-44de-bb6e-e29fba95e491 button');\n",
              "      quickchartButtonEl.style.display =\n",
              "        google.colab.kernel.accessAllowed ? 'block' : 'none';\n",
              "    })();\n",
              "  </script>\n",
              "</div>\n",
              "    </div>\n",
              "  </div>\n"
            ]
          },
          "metadata": {},
          "execution_count": 2
        }
      ],
      "source": [
        "text = []\n",
        "clas = []\n",
        "df = pd.read_csv('https://raw.githubusercontent.com/shakil1819/NLTK-LSTM-Based-Hate-Speech-Detection/main/Dataset/labeled_data.csv')\n",
        "text = df['tweet'].tolist()\n",
        "clas = df['class'].tolist()\n",
        "df.head()"
      ]
    },
    {
      "cell_type": "markdown",
      "id": "0eb13911",
      "metadata": {
        "papermill": {
          "duration": 0.006933,
          "end_time": "2022-07-01T00:26:33.888255",
          "exception": false,
          "start_time": "2022-07-01T00:26:33.881322",
          "status": "completed"
        },
        "tags": [],
        "id": "0eb13911"
      },
      "source": [
        "# creating a new dataframe for easy text processing"
      ]
    },
    {
      "cell_type": "code",
      "execution_count": 3,
      "id": "9e66a7b3",
      "metadata": {
        "execution": {
          "iopub.execute_input": "2022-07-01T00:26:33.903420Z",
          "iopub.status.busy": "2022-07-01T00:26:33.903010Z",
          "iopub.status.idle": "2022-07-01T00:26:33.919604Z",
          "shell.execute_reply": "2022-07-01T00:26:33.918955Z"
        },
        "papermill": {
          "duration": 0.02653,
          "end_time": "2022-07-01T00:26:33.921737",
          "exception": false,
          "start_time": "2022-07-01T00:26:33.895207",
          "status": "completed"
        },
        "tags": [],
        "id": "9e66a7b3"
      },
      "outputs": [],
      "source": [
        "df = pd.DataFrame({'tweet': text, 'class': clas})"
      ]
    },
    {
      "cell_type": "markdown",
      "id": "d69a4656",
      "metadata": {
        "papermill": {
          "duration": 0.006831,
          "end_time": "2022-07-01T00:26:33.935973",
          "exception": false,
          "start_time": "2022-07-01T00:26:33.929142",
          "status": "completed"
        },
        "tags": [],
        "id": "d69a4656"
      },
      "source": [
        "# Finding if there is any missing data"
      ]
    },
    {
      "cell_type": "code",
      "execution_count": 4,
      "id": "05987d7a",
      "metadata": {
        "execution": {
          "iopub.execute_input": "2022-07-01T00:26:33.951085Z",
          "iopub.status.busy": "2022-07-01T00:26:33.950790Z",
          "iopub.status.idle": "2022-07-01T00:26:33.959709Z",
          "shell.execute_reply": "2022-07-01T00:26:33.958998Z"
        },
        "papermill": {
          "duration": 0.019269,
          "end_time": "2022-07-01T00:26:33.962268",
          "exception": false,
          "start_time": "2022-07-01T00:26:33.942999",
          "status": "completed"
        },
        "tags": [],
        "colab": {
          "base_uri": "https://localhost:8080/"
        },
        "id": "05987d7a",
        "outputId": "fc4a0bd6-c8ef-495c-9d00-0d38ebdddd56"
      },
      "outputs": [
        {
          "output_type": "stream",
          "name": "stdout",
          "text": [
            "tweet    0\n",
            "class    0\n",
            "dtype: int64\n"
          ]
        }
      ],
      "source": [
        "print(df.isnull().sum())"
      ]
    },
    {
      "cell_type": "markdown",
      "id": "8a6379b9",
      "metadata": {
        "papermill": {
          "duration": 0.007565,
          "end_time": "2022-07-01T00:26:33.977744",
          "exception": false,
          "start_time": "2022-07-01T00:26:33.970179",
          "status": "completed"
        },
        "tags": [],
        "id": "8a6379b9"
      },
      "source": [
        "# Converting the data into lower case."
      ]
    },
    {
      "cell_type": "code",
      "execution_count": 5,
      "id": "f4541358",
      "metadata": {
        "execution": {
          "iopub.execute_input": "2022-07-01T00:26:33.994061Z",
          "iopub.status.busy": "2022-07-01T00:26:33.992693Z",
          "iopub.status.idle": "2022-07-01T00:26:34.008633Z",
          "shell.execute_reply": "2022-07-01T00:26:34.007788Z"
        },
        "papermill": {
          "duration": 0.025555,
          "end_time": "2022-07-01T00:26:34.010351",
          "exception": false,
          "start_time": "2022-07-01T00:26:33.984796",
          "status": "completed"
        },
        "tags": [],
        "id": "f4541358"
      },
      "outputs": [],
      "source": [
        "df['tweet'] = df['tweet'].apply(lambda x:x.lower())"
      ]
    },
    {
      "cell_type": "markdown",
      "id": "8995939c",
      "metadata": {
        "papermill": {
          "duration": 0.006871,
          "end_time": "2022-07-01T00:26:34.024547",
          "exception": false,
          "start_time": "2022-07-01T00:26:34.017676",
          "status": "completed"
        },
        "tags": [],
        "id": "8995939c"
      },
      "source": [
        "# removing punctuations"
      ]
    },
    {
      "cell_type": "code",
      "execution_count": 6,
      "id": "99d89b57",
      "metadata": {
        "execution": {
          "iopub.execute_input": "2022-07-01T00:26:34.040137Z",
          "iopub.status.busy": "2022-07-01T00:26:34.039596Z",
          "iopub.status.idle": "2022-07-01T00:26:34.150959Z",
          "shell.execute_reply": "2022-07-01T00:26:34.149194Z"
        },
        "papermill": {
          "duration": 0.12169,
          "end_time": "2022-07-01T00:26:34.153261",
          "exception": false,
          "start_time": "2022-07-01T00:26:34.031571",
          "status": "completed"
        },
        "tags": [],
        "colab": {
          "base_uri": "https://localhost:8080/"
        },
        "id": "99d89b57",
        "outputId": "780fd933-44df-4b6a-bc5c-256845e1d90b"
      },
      "outputs": [
        {
          "output_type": "stream",
          "name": "stderr",
          "text": [
            "<ipython-input-6-b7a77ccdace9>:5: FutureWarning: The default value of regex will change from True to False in a future version. In addition, single character regular expressions will *not* be treated as literal strings when regex=True.\n",
            "  df['tweet'] = df['tweet'].str.replace(punct_sign, '')\n"
          ]
        }
      ],
      "source": [
        "punctuation_signs = list(\"?:!.,;\")\n",
        "df['tweet'] = df['tweet']\n",
        "\n",
        "for punct_sign in punctuation_signs:\n",
        "    df['tweet'] = df['tweet'].str.replace(punct_sign, '')"
      ]
    },
    {
      "cell_type": "markdown",
      "id": "bb7e6227",
      "metadata": {
        "papermill": {
          "duration": 0.007011,
          "end_time": "2022-07-01T00:26:34.168396",
          "exception": false,
          "start_time": "2022-07-01T00:26:34.161385",
          "status": "completed"
        },
        "tags": [],
        "id": "bb7e6227"
      },
      "source": [
        "# Removing '\\n' and '\\t', extra spaces, quoting text, and progressive pronouns."
      ]
    },
    {
      "cell_type": "code",
      "execution_count": 7,
      "id": "b6b5ff27",
      "metadata": {
        "execution": {
          "iopub.execute_input": "2022-07-01T00:26:34.184028Z",
          "iopub.status.busy": "2022-07-01T00:26:34.183721Z",
          "iopub.status.idle": "2022-07-01T00:26:34.264194Z",
          "shell.execute_reply": "2022-07-01T00:26:34.263460Z"
        },
        "papermill": {
          "duration": 0.089968,
          "end_time": "2022-07-01T00:26:34.265869",
          "exception": false,
          "start_time": "2022-07-01T00:26:34.175901",
          "status": "completed"
        },
        "tags": [],
        "id": "b6b5ff27"
      },
      "outputs": [],
      "source": [
        "df['tweet'] = df['tweet'].apply(lambda x: x.replace('\\n', ' '))\n",
        "df['tweet'] = df['tweet'].apply(lambda x: x.replace('\\t', ' '))\n",
        "df['tweet'] = df['tweet'].str.replace(\"    \", \" \")\n",
        "df['tweet'] = df['tweet'].str.replace('\"', '')\n",
        "df['tweet'] = df['tweet'].str.replace(\"'s\", \"\")"
      ]
    },
    {
      "cell_type": "markdown",
      "id": "bddc825c",
      "metadata": {
        "papermill": {
          "duration": 0.006982,
          "end_time": "2022-07-01T00:26:34.279971",
          "exception": false,
          "start_time": "2022-07-01T00:26:34.272989",
          "status": "completed"
        },
        "tags": [],
        "id": "bddc825c"
      },
      "source": [
        "# removing stop-words"
      ]
    },
    {
      "cell_type": "code",
      "execution_count": 8,
      "id": "1ed0efb9",
      "metadata": {
        "execution": {
          "iopub.execute_input": "2022-07-01T00:26:34.295591Z",
          "iopub.status.busy": "2022-07-01T00:26:34.295199Z",
          "iopub.status.idle": "2022-07-01T00:26:48.340358Z",
          "shell.execute_reply": "2022-07-01T00:26:48.339533Z"
        },
        "papermill": {
          "duration": 14.055339,
          "end_time": "2022-07-01T00:26:48.342405",
          "exception": false,
          "start_time": "2022-07-01T00:26:34.287066",
          "status": "completed"
        },
        "tags": [],
        "colab": {
          "base_uri": "https://localhost:8080/"
        },
        "id": "1ed0efb9",
        "outputId": "64cf7e59-3035-450e-df42-72ebf40f6592"
      },
      "outputs": [
        {
          "output_type": "stream",
          "name": "stderr",
          "text": [
            "[nltk_data] Downloading package stopwords to /root/nltk_data...\n",
            "[nltk_data]   Unzipping corpora/stopwords.zip.\n",
            "<ipython-input-8-969333b8111c>:5: FutureWarning: The default value of regex will change from True to False in a future version.\n",
            "  df['tweet'] = df['tweet'].str.replace(regex_stopword, '')\n"
          ]
        }
      ],
      "source": [
        "nltk.download('stopwords')\n",
        "stop_words = list(stopwords.words('english'))\n",
        "for stop_word in stop_words:\n",
        "    regex_stopword = r\"\\b\" + stop_word + r\"\\b\"\n",
        "    df['tweet'] = df['tweet'].str.replace(regex_stopword, '')"
      ]
    },
    {
      "cell_type": "markdown",
      "id": "991ba24e",
      "metadata": {
        "papermill": {
          "duration": 0.007169,
          "end_time": "2022-07-01T00:26:48.357745",
          "exception": false,
          "start_time": "2022-07-01T00:26:48.350576",
          "status": "completed"
        },
        "tags": [],
        "id": "991ba24e"
      },
      "source": [
        "# Using Bag of Words approach for final data Preparation.¶"
      ]
    },
    {
      "cell_type": "code",
      "execution_count": 9,
      "id": "ee9e94c1",
      "metadata": {
        "execution": {
          "iopub.execute_input": "2022-07-01T00:26:48.373967Z",
          "iopub.status.busy": "2022-07-01T00:26:48.373640Z",
          "iopub.status.idle": "2022-07-01T00:26:48.769275Z",
          "shell.execute_reply": "2022-07-01T00:26:48.768450Z"
        },
        "papermill": {
          "duration": 0.406168,
          "end_time": "2022-07-01T00:26:48.771450",
          "exception": false,
          "start_time": "2022-07-01T00:26:48.365282",
          "status": "completed"
        },
        "tags": [],
        "id": "ee9e94c1"
      },
      "outputs": [],
      "source": [
        "cv = CountVectorizer(max_features = 75)\n",
        "X = cv.fit_transform(df['tweet']).toarray()\n",
        "y = df['class']"
      ]
    },
    {
      "cell_type": "markdown",
      "id": "63c36ad8",
      "metadata": {
        "papermill": {
          "duration": 0.007788,
          "end_time": "2022-07-01T00:26:48.786969",
          "exception": false,
          "start_time": "2022-07-01T00:26:48.779181",
          "status": "completed"
        },
        "tags": [],
        "id": "63c36ad8"
      },
      "source": [
        "# Splitting the Data using Stratified split"
      ]
    },
    {
      "cell_type": "code",
      "execution_count": 10,
      "id": "e367c525",
      "metadata": {
        "execution": {
          "iopub.execute_input": "2022-07-01T00:26:48.803201Z",
          "iopub.status.busy": "2022-07-01T00:26:48.802306Z",
          "iopub.status.idle": "2022-07-01T00:26:48.827422Z",
          "shell.execute_reply": "2022-07-01T00:26:48.826600Z"
        },
        "papermill": {
          "duration": 0.035194,
          "end_time": "2022-07-01T00:26:48.829419",
          "exception": false,
          "start_time": "2022-07-01T00:26:48.794225",
          "status": "completed"
        },
        "tags": [],
        "id": "e367c525"
      },
      "outputs": [],
      "source": [
        "X_train, X_test, y_train, y_test = train_test_split(X, y, test_size = 0.3, stratify=y, random_state = 42)"
      ]
    },
    {
      "cell_type": "code",
      "execution_count": 11,
      "id": "c152c75c",
      "metadata": {
        "execution": {
          "iopub.execute_input": "2022-07-01T00:26:48.845704Z",
          "iopub.status.busy": "2022-07-01T00:26:48.845351Z",
          "iopub.status.idle": "2022-07-01T00:26:48.854424Z",
          "shell.execute_reply": "2022-07-01T00:26:48.853693Z"
        },
        "papermill": {
          "duration": 0.019208,
          "end_time": "2022-07-01T00:26:48.856130",
          "exception": false,
          "start_time": "2022-07-01T00:26:48.836922",
          "status": "completed"
        },
        "tags": [],
        "id": "c152c75c"
      },
      "outputs": [],
      "source": [
        "def plot_confusion_matrix(cm, classes,\n",
        "                          normalize=False,\n",
        "                          title='Confusion matrix',\n",
        "                              cmap=plt.cm.Blues):\n",
        "\n",
        "    plt.imshow(cm, interpolation='nearest', cmap=cmap)\n",
        "    plt.title(title)\n",
        "    plt.colorbar()\n",
        "    tick_marks = np.arange(len(classes))\n",
        "    plt.xticks(tick_marks, classes, rotation=45)\n",
        "    plt.yticks(tick_marks, classes)\n",
        "\n",
        "    if normalize:\n",
        "        cm = cm.astype('float') / cm.sum(axis=1)[:, np.newaxis]\n",
        "\n",
        "    thresh = cm.max() / 2.\n",
        "    for i, j in itertools.product(range(cm.shape[0]), range(cm.shape[1])):\n",
        "        plt.text(j, i, cm[i, j],\n",
        "                 horizontalalignment=\"center\",\n",
        "                 color=\"white\" if cm[i, j] > thresh else \"black\")\n",
        "\n",
        "    plt.tight_layout()\n",
        "    plt.ylabel('True label')\n",
        "    plt.xlabel('Predicted label')"
      ]
    },
    {
      "cell_type": "markdown",
      "id": "4d851642",
      "metadata": {
        "papermill": {
          "duration": 0.007059,
          "end_time": "2022-07-01T00:26:48.870489",
          "exception": false,
          "start_time": "2022-07-01T00:26:48.863430",
          "status": "completed"
        },
        "tags": [],
        "id": "4d851642"
      },
      "source": [
        "# Using Random Forest Classifier as the Model and printing evaluating it using confusion matrix"
      ]
    },
    {
      "cell_type": "code",
      "execution_count": 12,
      "id": "37fd2597",
      "metadata": {
        "execution": {
          "iopub.execute_input": "2022-07-01T00:26:48.886343Z",
          "iopub.status.busy": "2022-07-01T00:26:48.885829Z",
          "iopub.status.idle": "2022-07-01T00:26:49.347499Z",
          "shell.execute_reply": "2022-07-01T00:26:49.346789Z"
        },
        "papermill": {
          "duration": 0.471456,
          "end_time": "2022-07-01T00:26:49.349219",
          "exception": false,
          "start_time": "2022-07-01T00:26:48.877763",
          "status": "completed"
        },
        "tags": [],
        "colab": {
          "base_uri": "https://localhost:8080/",
          "height": 541
        },
        "id": "37fd2597",
        "outputId": "f058cbd6-11ab-43e9-e290-aa81fa03cf78"
      },
      "outputs": [
        {
          "output_type": "stream",
          "name": "stdout",
          "text": [
            "accuracy is:  0.8383322125084062\n"
          ]
        },
        {
          "output_type": "execute_result",
          "data": {
            "text/plain": [
              "['rf.joblib']"
            ]
          },
          "metadata": {},
          "execution_count": 12
        },
        {
          "output_type": "display_data",
          "data": {
            "text/plain": [
              "<Figure size 640x480 with 2 Axes>"
            ],
            "image/png": "[encoded data removed]"
          },
          "metadata": {}
        }
      ],
      "source": [
        "clf = RandomForestClassifier(n_estimators=10)\n",
        "clf = clf.fit(X_train, y_train)\n",
        "y_pred = clf.predict(X_test)\n",
        "accuracy = accuracy_score(y_test, y_pred)\n",
        "print(\"accuracy is: \",accuracy)\n",
        "CM = confusion_matrix(y_test, y_pred)\n",
        "plot_confusion_matrix(CM, classes = range(3))\n",
        "dump(clf, 'rf.joblib')"
      ]
    },
    {
      "cell_type": "markdown",
      "id": "433f4ace",
      "metadata": {
        "papermill": {
          "duration": 0.00763,
          "end_time": "2022-07-01T00:26:49.365264",
          "exception": false,
          "start_time": "2022-07-01T00:26:49.357634",
          "status": "completed"
        },
        "tags": [],
        "id": "433f4ace"
      },
      "source": [
        "# Using Decision tree as the Model and printing evaluating it using confusion matrix"
      ]
    },
    {
      "cell_type": "code",
      "execution_count": 13,
      "id": "239945e3",
      "metadata": {
        "execution": {
          "iopub.execute_input": "2022-07-01T00:26:49.382488Z",
          "iopub.status.busy": "2022-07-01T00:26:49.381855Z",
          "iopub.status.idle": "2022-07-01T00:26:49.742599Z",
          "shell.execute_reply": "2022-07-01T00:26:49.741776Z"
        },
        "papermill": {
          "duration": 0.371327,
          "end_time": "2022-07-01T00:26:49.744519",
          "exception": false,
          "start_time": "2022-07-01T00:26:49.373192",
          "status": "completed"
        },
        "tags": [],
        "colab": {
          "base_uri": "https://localhost:8080/",
          "height": 541
        },
        "id": "239945e3",
        "outputId": "9435d0e5-7aae-4abe-947c-90280050a8ab"
      },
      "outputs": [
        {
          "output_type": "stream",
          "name": "stdout",
          "text": [
            "accuracy is:  0.8238063214525891\n"
          ]
        },
        {
          "output_type": "execute_result",
          "data": {
            "text/plain": [
              "['decision.joblib']"
            ]
          },
          "metadata": {},
          "execution_count": 13
        },
        {
          "output_type": "display_data",
          "data": {
            "text/plain": [
              "<Figure size 640x480 with 2 Axes>"
            ],
            "image/png": "[encoded data removed]"
          },
          "metadata": {}
        }
      ],
      "source": [
        "clf = tree.DecisionTreeClassifier()\n",
        "clf = clf.fit(X_train, y_train)\n",
        "y_pred = clf.predict(X_test)\n",
        "accuracy = accuracy_score(y_test, y_pred)\n",
        "print(\"accuracy is: \",accuracy)\n",
        "CM = confusion_matrix(y_test, y_pred)\n",
        "plot_confusion_matrix(CM, classes = range(3))\n",
        "dump(clf, 'decision.joblib')"
      ]
    },
    {
      "cell_type": "markdown",
      "id": "61f29096",
      "metadata": {
        "papermill": {
          "duration": 0.008495,
          "end_time": "2022-07-01T00:26:49.761528",
          "exception": false,
          "start_time": "2022-07-01T00:26:49.753033",
          "status": "completed"
        },
        "tags": [],
        "id": "61f29096"
      },
      "source": [
        "# Using AdaBoost Classifier as the Model and printing evaluating it using confusion matrix"
      ]
    },
    {
      "cell_type": "code",
      "execution_count": 14,
      "id": "1240e8b2",
      "metadata": {
        "execution": {
          "iopub.execute_input": "2022-07-01T00:26:49.779364Z",
          "iopub.status.busy": "2022-07-01T00:26:49.778694Z",
          "iopub.status.idle": "2022-07-01T00:26:51.826221Z",
          "shell.execute_reply": "2022-07-01T00:26:51.825414Z"
        },
        "papermill": {
          "duration": 2.058735,
          "end_time": "2022-07-01T00:26:51.828500",
          "exception": false,
          "start_time": "2022-07-01T00:26:49.769765",
          "status": "completed"
        },
        "tags": [],
        "colab": {
          "base_uri": "https://localhost:8080/",
          "height": 541
        },
        "id": "1240e8b2",
        "outputId": "3ef2520b-d787-44c2-bd83-ad28f92bcc4e"
      },
      "outputs": [
        {
          "output_type": "stream",
          "name": "stdout",
          "text": [
            "accuracy is:  0.8468056489576328\n"
          ]
        },
        {
          "output_type": "execute_result",
          "data": {
            "text/plain": [
              "['ada.joblib']"
            ]
          },
          "metadata": {},
          "execution_count": 14
        },
        {
          "output_type": "display_data",
          "data": {
            "text/plain": [
              "<Figure size 640x480 with 2 Axes>"
            ],
            "image/png": "[encoded data removed]"
          },
          "metadata": {}
        }
      ],
      "source": [
        "clf = AdaBoostClassifier(n_estimators=100)\n",
        "clf = clf.fit(X_train, y_train)\n",
        "y_pred = clf.predict(X_test)\n",
        "accuracy = accuracy_score(y_test, y_pred)\n",
        "print(\"accuracy is: \",accuracy)\n",
        "CM = confusion_matrix(y_test, y_pred)\n",
        "plot_confusion_matrix(CM, classes = range(3))\n",
        "dump(clf, 'ada.joblib')"
      ]
    },
    {
      "cell_type": "markdown",
      "id": "17a02bff",
      "metadata": {
        "papermill": {
          "duration": 0.013715,
          "end_time": "2022-07-01T00:26:51.857360",
          "exception": false,
          "start_time": "2022-07-01T00:26:51.843645",
          "status": "completed"
        },
        "tags": [],
        "id": "17a02bff"
      },
      "source": [
        "# Converting the labels into categorical format"
      ]
    },
    {
      "cell_type": "code",
      "execution_count": 15,
      "id": "6150ad04",
      "metadata": {
        "execution": {
          "iopub.execute_input": "2022-07-01T00:26:51.887130Z",
          "iopub.status.busy": "2022-07-01T00:26:51.886636Z",
          "iopub.status.idle": "2022-07-01T00:26:51.892147Z",
          "shell.execute_reply": "2022-07-01T00:26:51.891473Z"
        },
        "papermill": {
          "duration": 0.024112,
          "end_time": "2022-07-01T00:26:51.895421",
          "exception": false,
          "start_time": "2022-07-01T00:26:51.871309",
          "status": "completed"
        },
        "tags": [],
        "id": "6150ad04"
      },
      "outputs": [],
      "source": [
        "y_train=to_categorical(y_train, num_classes = 3, dtype='float32')\n",
        "y_test=to_categorical(y_test, num_classes = 3, dtype='float32')"
      ]
    },
    {
      "cell_type": "markdown",
      "id": "d5dbdb7f",
      "metadata": {
        "papermill": {
          "duration": 0.013761,
          "end_time": "2022-07-01T00:26:51.923816",
          "exception": false,
          "start_time": "2022-07-01T00:26:51.910055",
          "status": "completed"
        },
        "tags": [],
        "id": "d5dbdb7f"
      },
      "source": [
        "# Creating and Training an LSTM Model"
      ]
    },
    {
      "cell_type": "code",
      "execution_count": 16,
      "id": "e0a8237a",
      "metadata": {
        "execution": {
          "iopub.execute_input": "2022-07-01T00:26:51.953542Z",
          "iopub.status.busy": "2022-07-01T00:26:51.953019Z",
          "iopub.status.idle": "2022-07-01T01:04:18.930918Z",
          "shell.execute_reply": "2022-07-01T01:04:18.930056Z"
        },
        "papermill": {
          "duration": 2246.995481,
          "end_time": "2022-07-01T01:04:18.933124",
          "exception": false,
          "start_time": "2022-07-01T00:26:51.937643",
          "status": "completed"
        },
        "tags": [],
        "colab": {
          "base_uri": "https://localhost:8080/"
        },
        "id": "e0a8237a",
        "outputId": "a9f8780f-59e9-4206-b2c7-2d426e5a7bbb"
      },
      "outputs": [
        {
          "output_type": "stream",
          "name": "stderr",
          "text": [
            "WARNING:tensorflow:Layer lstm will not use cuDNN kernels since it doesn't meet the criteria. It will use a generic GPU kernel as fallback when running on GPU.\n"
          ]
        },
        {
          "output_type": "stream",
          "name": "stdout",
          "text": [
            "Epoch 1/5\n",
            "272/272 [==============================] - 108s 366ms/step - loss: 0.4243 - accuracy: 0.7736 - val_loss: 0.4023 - val_accuracy: 0.7743\n",
            "Epoch 2/5\n",
            "272/272 [==============================] - 100s 367ms/step - loss: 0.4022 - accuracy: 0.7743 - val_loss: 0.4021 - val_accuracy: 0.7743\n",
            "Epoch 3/5\n",
            "272/272 [==============================] - 100s 367ms/step - loss: 0.4016 - accuracy: 0.7743 - val_loss: 0.4016 - val_accuracy: 0.7743\n",
            "Epoch 4/5\n",
            "272/272 [==============================] - 101s 372ms/step - loss: 0.4012 - accuracy: 0.7743 - val_loss: 0.4015 - val_accuracy: 0.7743\n",
            "Epoch 5/5\n",
            "272/272 [==============================] - 101s 371ms/step - loss: 0.4012 - accuracy: 0.7743 - val_loss: 0.4007 - val_accuracy: 0.7743\n"
          ]
        }
      ],
      "source": [
        "model = Sequential()\n",
        "model.add(Embedding(232337, 100, input_length=X_train.shape[1]))\n",
        "model.add(SpatialDropout1D(0.2))\n",
        "model.add(LSTM(20, dropout=0.2, recurrent_dropout=0.2))\n",
        "model.add(Dense(3, activation='softmax'))\n",
        "model.compile(loss='binary_crossentropy', optimizer='adam', metrics=['accuracy'])\n",
        "\n",
        "epochs = 25\n",
        "batch_size = 64\n",
        "\n",
        "history = model.fit(X_train, y_train,validation_data = (X_test,y_test), epochs=epochs, batch_size=batch_size)"
      ]
    },
    {
      "cell_type": "code",
      "execution_count": 17,
      "id": "7d6229c5",
      "metadata": {
        "execution": {
          "iopub.execute_input": "2022-07-01T01:04:19.820086Z",
          "iopub.status.busy": "2022-07-01T01:04:19.819716Z",
          "iopub.status.idle": "2022-07-01T01:04:20.185155Z",
          "shell.execute_reply": "2022-07-01T01:04:20.184407Z"
        },
        "papermill": {
          "duration": 0.783346,
          "end_time": "2022-07-01T01:04:20.187004",
          "exception": false,
          "start_time": "2022-07-01T01:04:19.403658",
          "status": "completed"
        },
        "tags": [],
        "colab": {
          "base_uri": "https://localhost:8080/",
          "height": 887
        },
        "id": "7d6229c5",
        "outputId": "faf90cbd-4b51-4a14-92a9-0473a4447678"
      },
      "outputs": [
        {
          "output_type": "display_data",
          "data": {
            "text/plain": [
              "<Figure size 640x480 with 1 Axes>"
            ],
            "image/png": "[encoded data removed]"
          },
          "metadata": {}
        },
        {
          "output_type": "display_data",
          "data": {
            "text/plain": [
              "<Figure size 640x480 with 1 Axes>"
            ],
            "image/png": "[encoded data removed]"
          },
          "metadata": {}
        }
      ],
      "source": [
        "acc = history.history['accuracy']\n",
        "val_acc = history.history['val_accuracy']\n",
        "loss = history.history['loss']\n",
        "val_loss = history.history['val_loss']\n",
        "epochs = range(1, len(acc) + 1)\n",
        "plt.plot(epochs, acc, 'bo', label='Training accuracy')\n",
        "plt.plot(epochs, val_acc, 'r', label='Validation accuracy')\n",
        "plt.title('Training and validation accuracy')\n",
        "plt.legend()\n",
        "plt.figure()\n",
        "plt.plot(epochs, loss, 'bo', label='Training loss')\n",
        "plt.plot(epochs, val_loss, 'r', label='Validation loss')\n",
        "plt.title('Training and validation loss')\n",
        "plt.legend()\n",
        "plt.show()"
      ]
    },
    {
      "cell_type": "markdown",
      "id": "28447cde",
      "metadata": {
        "papermill": {
          "duration": 0.416405,
          "end_time": "2022-07-01T01:04:21.019379",
          "exception": false,
          "start_time": "2022-07-01T01:04:20.602974",
          "status": "completed"
        },
        "tags": [],
        "id": "28447cde"
      },
      "source": [
        "# Saving the LSTM Model"
      ]
    },
    {
      "cell_type": "code",
      "execution_count": 18,
      "id": "e9ad5652",
      "metadata": {
        "execution": {
          "iopub.execute_input": "2022-07-01T01:04:21.900928Z",
          "iopub.status.busy": "2022-07-01T01:04:21.900569Z",
          "iopub.status.idle": "2022-07-01T01:04:22.441055Z",
          "shell.execute_reply": "2022-07-01T01:04:22.440243Z"
        },
        "papermill": {
          "duration": 0.955905,
          "end_time": "2022-07-01T01:04:22.443221",
          "exception": false,
          "start_time": "2022-07-01T01:04:21.487316",
          "status": "completed"
        },
        "tags": [],
        "colab": {
          "base_uri": "https://localhost:8080/"
        },
        "id": "e9ad5652",
        "outputId": "7a7e435e-dc4b-4ef1-b850-f76073543315"
      },
      "outputs": [
        {
          "output_type": "stream",
          "name": "stderr",
          "text": [
            "/usr/local/lib/python3.10/dist-packages/keras/src/engine/training.py:3079: UserWarning: You are saving your model as an HDF5 file via `model.save()`. This file format is considered legacy. We recommend using instead the native Keras format, e.g. `model.save('my_model.keras')`.\n",
            "  saving_api.save_model(\n"
          ]
        }
      ],
      "source": [
        "model.save('lstm.h5')"
      ]
    },
    {
      "cell_type": "code",
      "source": [
        "from sklearn.metrics import classification_report, accuracy_score, precision_recall_fscore_support\n",
        "\n",
        "# Get true labels\n",
        "y_true = y_test\n",
        "\n",
        "# Get LSTM predictions\n",
        "lstm_predictions = (model.predict(X_test) > 0.5).astype(\"int32\")\n",
        "\n",
        "# Calculate accuracy\n",
        "lstm_accuracy = accuracy_score(y_true, lstm_predictions)\n",
        "\n",
        "# Get classification report\n",
        "lstm_report = classification_report(y_true, lstm_predictions)\n",
        "\n",
        "# Print accuracy\n",
        "print(\"LSTM Accuracy:\", lstm_accuracy)\n",
        "\n",
        "# Print classification report\n",
        "print(lstm_report)\n",
        "\n",
        "# Get average precision, recall and F1 score\n",
        "lstm_precision, lstm_recall, lstm_f1, _ = precision_recall_fscore_support(y_true, lstm_predictions, average='macro')\n",
        "\n",
        "print(\"Average LSTM Precision:\", lstm_precision)\n",
        "print(\"Average LSTM Recall:\", lstm_recall)\n",
        "print(\"Average LSTM F1:\", lstm_f1)"
      ],
      "metadata": {
        "id": "iK05a7Swe_57",
        "outputId": "233d8871-1364-4957-9353-ff07975ac5e0",
        "colab": {
          "base_uri": "https://localhost:8080/"
        }
      },
      "id": "iK05a7Swe_57",
      "execution_count": 20,
      "outputs": [
        {
          "output_type": "stream",
          "name": "stdout",
          "text": [
            "233/233 [==============================] - 11s 47ms/step\n",
            "LSTM Accuracy: 0.774310692669805\n",
            "              precision    recall  f1-score   support\n",
            "\n",
            "           0       0.00      0.00      0.00       429\n",
            "           1       0.77      1.00      0.87      5757\n",
            "           2       0.00      0.00      0.00      1249\n",
            "\n",
            "   micro avg       0.77      0.77      0.77      7435\n",
            "   macro avg       0.26      0.33      0.29      7435\n",
            "weighted avg       0.60      0.77      0.68      7435\n",
            " samples avg       0.77      0.77      0.77      7435\n",
            "\n",
            "Average LSTM Precision: 0.25810356422326836\n",
            "Average LSTM Recall: 0.3333333333333333\n",
            "Average LSTM F1: 0.29093389933292907\n"
          ]
        },
        {
          "output_type": "stream",
          "name": "stderr",
          "text": [
            "/usr/local/lib/python3.10/dist-packages/sklearn/metrics/_classification.py:1344: UndefinedMetricWarning: Precision and F-score are ill-defined and being set to 0.0 in labels with no predicted samples. Use `zero_division` parameter to control this behavior.\n",
            "  _warn_prf(average, modifier, msg_start, len(result))\n",
            "/usr/local/lib/python3.10/dist-packages/sklearn/metrics/_classification.py:1344: UndefinedMetricWarning: Precision and F-score are ill-defined and being set to 0.0 in labels with no predicted samples. Use `zero_division` parameter to control this behavior.\n",
            "  _warn_prf(average, modifier, msg_start, len(result))\n"
          ]
        }
      ]
    }
  ],
  "metadata": {
    "kernelspec": {
      "display_name": "Python 3",
      "name": "python3"
    },
    "language_info": {
      "codemirror_mode": {
        "name": "ipython",
        "version": 3
      },
      "file_extension": ".py",
      "mimetype": "text/x-python",
      "name": "python",
      "nbconvert_exporter": "python",
      "pygments_lexer": "ipython3",
      "version": "3.7.12"
    },
    "papermill": {
      "default_parameters": {},
      "duration": 2287.320086,
      "end_time": "2022-07-01T01:04:26.432752",
      "environment_variables": {},
      "exception": null,
      "input_path": "__notebook__.ipynb",
      "output_path": "__notebook__.ipynb",
      "parameters": {},
      "start_time": "2022-07-01T00:26:19.112666",
      "version": "2.3.4"
    },
    "colab": {
      "provenance": [],
      "gpuType": "T4",
      "include_colab_link": true
    },
    "accelerator": "GPU"
  },
  "nbformat": 4,
  "nbformat_minor": 5
}